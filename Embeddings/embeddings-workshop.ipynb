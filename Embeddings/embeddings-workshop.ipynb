{
 "cells": [
  {
   "cell_type": "markdown",
   "metadata": {},
   "source": [
    "Embeddings\n",
    "===\n",
    "MAIC - Spring, Week 4<br>\n",
    "```\n",
    "  _____________\n",
    " /0   /     \\  \\\n",
    "/  \\ M A I C/  /\\\n",
    "\\ / *      /  / /\n",
    " \\___\\____/  @ /\n",
    "          \\_/_/\n",
    "```\n",
    "(Rosie is not needed!)\n",
    "\n",
    "Prereqs:\n",
    "- Install [VSCode](https://code.visualstudio.com/)\n",
    "- Install [Python](https://www.python.org/downloads/)\n",
    "- Ensure you can run notebooks in VSCode.\n",
    "\n",
    "<span style=\"color:#ff5555;font-weight:bold;font-size:1.5rem;\">\n",
    "    STOP\n",
    "</span>\n",
    "\n",
    "... or keep going if you want to work ahead.\n",
    "\n",
    "---"
   ]
  },
  {
   "cell_type": "markdown",
   "metadata": {},
   "source": [
    "Embeddings are an extremely useful tool in modern machine learning, allowing raw text to be transformed into numerical representations that models can understand.\n",
    "They are also a popular interview question to test a candidate’s understanding of vector spaces, similarity metrics, and real-world applications.\n",
    "Beyond that, embeddings are incredibly common in ML, powering everything from search engines and recommendation systems to chatbots and fraud detection.\n",
    "You'll see embeddings being used everywhere if you look! Here are just some models, projects, and papers that make use of embeddings:\n",
    "- [The original transformer paper - the basis of modern LLMs](https://arxiv.org/pdf/1706.03762)\n",
    "- [RAG systems - often used to give LLMs comprehensive access to much more information than they could normally use at once](https://en.wikipedia.org/wiki/Retrieval-augmented_generation)\n",
    "- [Image generations models such as Stable Diffusion](https://en.wikipedia.org/wiki/Stable_Diffusion)\n",
    "  - Note: images are generated *in embedding space*!\n",
    "- [Audio-continuation models such as RAVE](https://github.com/acids-ircam/RAVE)\n",
    "- Modern image search makes extensive use of embeddings\n",
    "- Modern recommendation algorithms also use embeddings\n",
    "- Even some papers published by MSOE students involve the use of embeddings! Here are a few:\n",
    "  - [Agent simulation with LLMs](https://arxiv.org/pdf/2409.13753)\n",
    "  - [Strategy masking - a technique to control model behavior](https://arxiv.org/pdf/2501.05501)\n",
    "\n",
    "**What *are* Embeddings?**\n",
    "\n",
    "At the lowest level, an embedding is just stored as a list of numbers. This could be an embedding: `[0.1, 0.2, -0.3]`.\n",
    "\n",
    "This list of numbers is best interpreted as a point or direction in some very high-dimensional space that represents something. In the case of text-based models, embeddings are used to represent words and sentences.\n",
    "\n",
    "In practice, embeddings range from tens of dimensions to over 1000. For simplicity, let's only conceptualize things in two or three dimensions for now - that way we can actually visualize what's going on.\n",
    "\n",
    "The image below shows how embedded words of the phrase `some embedded text` can be thought of as directions in space - the embedding point describes direction relative to the point (0,0).\n",
    "\n",
    "<img src=\"https://raw.githubusercontent.com/MSOE-AI-Club/workshops/refs/heads/main/Embeddings/img1.png\" width=1000px>\n",
    "\n",
    "But how do we actually interpret these directions in space as being words? The answer is that different directions in the space represent different aspects of a word -\n",
    "- one direction may encode \"past tense,\"\n",
    "- another may enode the idea of \"running\" or \"to run.\"\n",
    "\n",
    "In the case above, the embedding of the word \"ran\" may point in the average of the directions encoding \"past tense,\" and \"to run.\"\n",
    "\n",
    "<img src=\"https://raw.githubusercontent.com/MSOE-AI-Club/workshops/refs/heads/main/Embeddings/img2.png\" width=600px>\n",
    "\n",
    "This topic naturally leads into another important point: embeddings *closer* in embedding space are also *closer* in meaning. The word \"ran\" will be closer to \"walked\" than to \"stapler.\" This is the case, because words with increasingly different meanings are, *by definition,* pointing in increasingly different directions to encode those meanings.\n",
    "\n",
    "<img src=\"https://raw.githubusercontent.com/MSOE-AI-Club/workshops/refs/heads/main/Embeddings/img3.png\" width=600px>\n",
    "\n",
    "NOTE: we'll watch this during the workshop:\n",
    "\n",
    "[Here is a one-minute video that illustrates this concept using real-world embeddings.](https://www.youtube.com/watch?v=FJtFZwbvkI4)\n",
    "\n",
    "**How is it possible for there to be directions dedicated to ideas as specific as \"Italian-ness\" and \"WWII Axis leaders?\"**\n",
    "\n",
    "One might expect that the directions in embedding space would represent more general concepts.\n",
    "\n",
    "If directions can be allocated to specific ideas like \"WWII Axis leaders,\" how are there enough directions left to represent everything else, from \"60s British pop bands\" to \"computer keyboard layouts\"?!?!\n",
    "\n",
    "In two or three dimensions, it's *not* really possible to have directions this specific. But, remember that text embeddings are typically 10s to 1000s of dimensions.  \n",
    "\n",
    "As the number of dimensions grows, the number of possible points and directions in a space grows MUCH more quickly.\n",
    "\n",
    "Let's work with the constraint that points of different meanings must be one unit apart. This is somewhat arbitrary, but it is true that there is a \"minumum\" distance between two points before they mean the same thing. Let's also say that we only allow points in the range 0 to 1. This is also somewhat arbitrary, but machine learning models often try to keep numbers from getting too big to prevent numbers from going to infinity. With these constraints, we can only fit two points in one dimension:\n",
    "\n",
    "<img src=\"https://raw.githubusercontent.com/MSOE-AI-Club/workshops/refs/heads/main/Embeddings/img4.png\" width=600px>\n",
    "\n",
    "These two points (or two directions relative to a centerpoint) probably can't encode much information. But what if we extrude ourselves into the second dimension with the same constraints? \n",
    "\n",
    "<img src=\"https://raw.githubusercontent.com/MSOE-AI-Club/workshops/refs/heads/main/Embeddings/img5.png\" width=600px>\n",
    "\n",
    "We now have *four* points (or four directions). And if we went to three dimensions we'd have eight points - imagine extruding the four points of this square into a cube. In general, our constraints will allow N dimensions to encode $2^N$ unique directions.\n",
    "\n",
    "- With 10 dimensions, you have over 1000 directions.\n",
    "- 20 dimensions gets us over 1 million directions.\n",
    "- And at 1000 dimensions, we have **more possible unique directions than atoms in the observable universe,** each of which can be interpolated between to embed specific words or sentences!\n",
    "\n",
    "The act of adding just *one* dimension EXPONENTIALLY increases how many things we can fit in the space! So think about adding a dimension to a 3D space... *1000 times*.\n",
    "\n",
    "<img src=\"https://www.i2tutorials.com/wp-content/media/2019/09/Curse-of-Dimensionality-i2tutorials.png\" width=1000px>\n",
    "\n",
    "Although we can't *see* the directions encoding things like \"WWII Axis leaders,\" there is no doubt that these directions are able to exist.\n",
    "\n",
    "**Who decided that there should be directions for these particular ideas?**\n",
    "\n",
    "These directions are not something humans designed directly. Instead, these directions *emerge* from the process of training the model.\n",
    "\n",
    "The model learns from a huge amount of text and starts to recognize patterns, like which words tend to appear in similar contexts.\n",
    "\n",
    "As it processes more and more language, the model \"figures out\" what sort of information it should store in the directions of an embedding space - even though no one explicitly programmed it to do that!\n",
    "\n",
    "---\n",
    "\n",
    "<span style=\"color:#55ff55;font-weight:bold;font-size:1.5rem;\">\n",
    "    GO\n",
    "</span>\n",
    "\n",
    "**That seems neat. How can I use embeddings?**\n",
    "\n",
    "Let's set things up!\n",
    "\n",
    "It's really easy to get started with embeddings. You can even run small embedding models on your laptop!\n",
    "\n",
    "We'll be using `sentence-transformers` to run [all-MiniLM-L6-v2](https://huggingface.co/sentence-transformers/all-MiniLM-L6-v2) - a model that embeds sentences into 384 dimensions."
   ]
  },
  {
   "cell_type": "code",
   "execution_count": null,
   "metadata": {},
   "outputs": [],
   "source": [
    "# Shouldn't take longer than ~5 mins\n",
    "%pip install sentence-transformers\n",
    "%pip install tf-keras\n",
    "%pip instal numpy\n",
    "%pip install matplotlib"
   ]
  },
  {
   "cell_type": "code",
   "execution_count": null,
   "metadata": {},
   "outputs": [],
   "source": [
    "from sentence_transformers import SentenceTransformer\n",
    "import numpy as np"
   ]
  },
  {
   "cell_type": "code",
   "execution_count": null,
   "metadata": {},
   "outputs": [],
   "source": [
    "model = SentenceTransformer(\"all-MiniLM-L6-v2\") # Our model of choice is supplied here. You can find many more on huggingface: https://huggingface.co/models?sort=trending&search=embed\n",
    "embedding = model.encode(\"This is an embedded text example.\")\n",
    "\n",
    "print(embedding) # our embeddings are just lists of numbers stored as Numpy arrays. Numpy is just a library that makes it easier to manipulate arrays."
   ]
  },
  {
   "cell_type": "markdown",
   "metadata": {},
   "source": [
    "<span style=\"color:#ff5555;font-weight:bold;font-size:1.5rem;\">\n",
    "    STOP\n",
    "</span>\n",
    "\n",
    "... or keep going if you want to work ahead.\n",
    "\n",
    "---\n",
    "\n",
    "Now that we (hopefully) have a working embedding model, let's put it to use.\n",
    "\n",
    "But before that, we need to understand how to measure \"distance\" in embedding space.\n",
    "\n",
    "**Q: How would you normally measure distance between points in space?**\n",
    "\n",
    "**A: I would use the [Pythagorean theorem to find the Euclidean distance](https://en.wikipedia.org/wiki/Euclidean_distance).**\n",
    "\n",
    "That's right! Except we don't use Euclidean distance for embeddings.\n",
    "\n",
    "Well, you *could* use Euclidean distance for embeddings, but we use a different distance metric to take advantage of the fact that embeddings are directions.\n",
    "\n",
    "There is a metric you can compute between two vectors (two directions) called the [cosine similarity](https://en.wikipedia.org/wiki/Cosine_similarity) of the two vectors. This number is simply the cosine of the angle between the vectors.\n",
    "\n",
    "<img src=\"https://raw.githubusercontent.com/MSOE-AI-Club/workshops/refs/heads/main/Embeddings/img6.png\" width=1000px>\n",
    "\n",
    "If an angle $\\theta$ between two vectors is small and close to zero, then the cosine of that value will be close to $\\cos(0) = 1$. The maximum cosine similarity is $1$.\n",
    "\n",
    "As the angle increases, the cosine similarity decreases. When the angle passes ninety degrees, the cosine similarity goes negative. Two opposite vectors have a cosine similarity of $-1$. **Higher cosine similarity means two vectors are more similar.**\n",
    "\n",
    "The cosine similarity is so useful not only because it can tell us the similarity between vectors, but *also* because it's really easy to calculate. Simply multiply each number in a vector with each number in the same position in another, and then take the sum:\n",
    "$$\\text{CosineSim}([1,2], [3,4]) = 1\\times2\\ +\\ 2\\times4.$$\n",
    "\n",
    "This quantity is also called the [dot product](https://en.wikipedia.org/wiki/Dot_product), and we'll be computing it via `np.dot`.\n",
    "\n",
    "DISCLAIMER: technically, the dot product only equals the cosine similarity when the vectors are *normalized* (have a magnitude of 1), but embedding vectors are usually normalized.\n",
    "\n",
    "There is a separate metric from cosine similarity called cosine *distance.* It is computed via $1 - \\text{CosineSim}$. Unlike cosine similarity which tells you \"how similar\" two vectors are, cosine distance acts more like Euclidean distance in the sense that higher numbers mean \"more different\" rather than \"more similar.\" The cosine distance ranges from $0$ (for two equal vectors) to $2$ (for two opposite vectors).\n",
    "\n",
    "If you *did* use Euclidean distance on embeddings, your distances would be similar to those from using cosine distance. The reason that cosine distance is still preferred is computational - the Euclidean distance requires a square root to compute while cosine distance doesn't.\n",
    "\n",
    "---\n",
    "\n",
    "<span style=\"color:#55ff55;font-weight:bold;font-size:1.5rem;\">\n",
    "    GO\n",
    "</span>\n",
    "\n",
    "Let's first try the example from the previously linked 3Blue1Brown video."
   ]
  },
  {
   "cell_type": "code",
   "execution_count": null,
   "metadata": {},
   "outputs": [],
   "source": [
    "emb_uncle = model.encode(\"uncle\")\n",
    "emb_aunt = model.encode(\"aunt\")\n",
    "emb_man = model.encode(\"man\")\n",
    "emb_woman = model.encode(\"woman\")\n",
    "\n",
    "sim1 = np.dot(emb_uncle, emb_aunt) # We are using np.dot to evaluate the cosine similarity\n",
    "sim2 = np.dot(emb_uncle - emb_man + emb_woman, emb_aunt)\n",
    "\n",
    "print('CosSim:\\t\\t\\t', sim1)\n",
    "print('CosSim after transform:\\t', sim2) # Higher similarity! Remember that a larger number means more similar.\n"
   ]
  },
  {
   "cell_type": "markdown",
   "metadata": {},
   "source": [
    "**If you're done and still waiting for the workshop to continue:**\n",
    "\n",
    "Feel free to use different words or phrases in the example above. Does the \"Hitler - Germany + Italy = Mussolini\" example work? What about something like \"Milwaukee - Wisconsin + Illinois = Chicago\"?\n",
    "\n",
    "<span style=\"color:#ff5555;font-weight:bold;font-size:1.5rem;\">\n",
    "    STOP\n",
    "</span>\n",
    "\n",
    "... or keep going if you want to work ahead.\n",
    "\n",
    "---\n",
    "\n",
    "TODO\n",
    "\n",
    "more on visualizing embeddings\n",
    "- bar plot\n",
    "- img - 100 pixels in an img are visually a lot more info than 2d direction\n",
    "- pca\n",
    "\n",
    "some search task\n",
    "\n",
    "some clustering task\n",
    "\n",
    "maybe: high level of embeddings in transformer/attention?"
   ]
  },
  {
   "cell_type": "code",
   "execution_count": 15,
   "metadata": {},
   "outputs": [],
   "source": [
    "from matplotlib import pyplot as plt"
   ]
  },
  {
   "cell_type": "code",
   "execution_count": 43,
   "metadata": {},
   "outputs": [],
   "source": [
    "emb_to_viz = model.encode(\"Milwaukee\")"
   ]
  },
  {
   "cell_type": "code",
   "execution_count": 44,
   "metadata": {},
   "outputs": [
    {
     "data": {
      "image/png": "[encoded data removed]",
      "text/plain": [
       "<Figure size 640x480 with 1 Axes>"
      ]
     },
     "metadata": {},
     "output_type": "display_data"
    },
    {
     "data": {
      "image/png": "[encoded data removed]",
      "text/plain": [
       "<Figure size 640x480 with 1 Axes>"
      ]
     },
     "metadata": {},
     "output_type": "display_data"
    }
   ],
   "source": [
    "NUM_BARS = 30 # set to some big number (like 1000) to see all dimensions\n",
    "plt.bar(range(emb_to_viz[:NUM_BARS].size), emb_to_viz[:NUM_BARS])\n",
    "plt.show()\n",
    "\n",
    "plt.imshow(emb_to_viz.reshape(16, 24))\n",
    "plt.show()"
   ]
  },
  {
   "cell_type": "markdown",
   "metadata": {},
   "source": [
    "**Which direction encodes \"city-ness\"?**"
   ]
  },
  {
   "cell_type": "code",
   "execution_count": 161,
   "metadata": {},
   "outputs": [
    {
     "data": {
      "image/png": "[encoded data removed]",
      "text/plain": [
       "<Figure size 640x480 with 1 Axes>"
      ]
     },
     "metadata": {},
     "output_type": "display_data"
    }
   ],
   "source": [
    "# We can see which components reinforce each other the most in a (somewhat) fully-representitive distribution of cities\n",
    "city_dir =  np.abs(model.encode(\"Milwaukee\"))\n",
    "city_dir *= np.abs(model.encode(\"Chicago\"))\n",
    "city_dir *= np.abs(model.encode(\"London\"))\n",
    "city_dir *= np.abs(model.encode(\"Hong Kong\"))\n",
    "city_dir *= np.abs(model.encode(\"Melbourne\"))\n",
    "city_dir *= np.abs(model.encode(\"Moscow\"))\n",
    "city_dir *= np.abs(model.encode(\"New York\"))\n",
    "city_dir *= np.abs(model.encode(\"Toronto\"))\n",
    "city_dir *= np.abs(model.encode(\"Mexico City\"))\n",
    "city_dir *= np.abs(model.encode(\"Cairo\"))\n",
    "city_dir *= np.abs(model.encode(\"Montevideo\"))\n",
    "\n",
    "# city_dir = model.encode(\"England\")\n",
    "# city_dir *= model.encode(\"USA\")\n",
    "# city_dir *= model.encode(\"Canada\")\n",
    "# city_dir *= model.encode(\"China\")\n",
    "# city_dir *= model.encode(\"New Zealand\")\n",
    "# city_dir *= model.encode(\"South Africa\")\n",
    "# city_dir *= model.encode(\"Egypt\")\n",
    "# city_dir *= model.encode(\"France\")\n",
    "# city_dir *= model.encode(\"Russia\")\n",
    "# city_dir *= model.encode(\"Japan\")\n",
    "# city_dir *= model.encode(\"Brazil\")\n",
    "\n",
    "plt.imshow(city_dir.reshape(16, 24))\n",
    "plt.show()"
   ]
  },
  {
   "cell_type": "code",
   "execution_count": 137,
   "metadata": {},
   "outputs": [
    {
     "data": {
      "image/png": "[encoded data removed]",
      "text/plain": [
       "<Figure size 640x480 with 1 Axes>"
      ]
     },
     "metadata": {},
     "output_type": "display_data"
    },
    {
     "name": "stdout",
     "output_type": "stream",
     "text": [
      "0.999189\n"
     ]
    }
   ],
   "source": [
    "dir_sorted = np.abs(city_dir)\n",
    "dir_sorted = dir_sorted[np.flip(dir_sorted.argsort())]\n",
    "plt.plot(\n",
    "    dir_sorted[:5]\n",
    ")\n",
    "plt.show()\n",
    "print(dir_sorted[:5].sum()/dir_sorted.sum())"
   ]
  }
 ],
 "metadata": {
  "kernelspec": {
   "display_name": "Python 3",
   "language": "python",
   "name": "python3"
  },
  "language_info": {
   "codemirror_mode": {
    "name": "ipython",
    "version": 3
   },
   "file_extension": ".py",
   "mimetype": "text/x-python",
   "name": "python",
   "nbconvert_exporter": "python",
   "pygments_lexer": "ipython3",
   "version": "3.12.8"
  }
 },
 "nbformat": 4,
 "nbformat_minor": 2
}
