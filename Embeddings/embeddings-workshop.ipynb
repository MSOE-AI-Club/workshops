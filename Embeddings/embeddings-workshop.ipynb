{
 "cells": [
  {
   "cell_type": "markdown",
   "metadata": {},
   "source": [
    "Embeddings\n",
    "===\n",
    "MAIC - Spring, Week 4<br>\n",
    "```\n",
    "  _____________\n",
    " /0   /     \\  \\\n",
    "/  \\ M A I C/  /\\\n",
    "\\ / *      /  / /\n",
    " \\___\\____/  @ /\n",
    "          \\_/_/\n",
    "```\n",
    "(Rosie is not needed!)\n",
    "\n",
    "Prereqs:\n",
    "- Install [VSCode](https://code.visualstudio.com/)\n",
    "- Install [Python](https://www.python.org/downloads/)\n",
    "- Ensure you can run notebooks in VSCode.\n",
    "\n",
    "Job listing dataset credit: https://www.kaggle.com/datasets/kshitizregmi/jobs-and-job-description (You don't need to download this yourself)\n",
    "\n",
    "Run the below pip installs now so we don't have to wait for them later: "
   ]
  },
  {
   "cell_type": "code",
   "execution_count": null,
   "metadata": {},
   "outputs": [],
   "source": [
    "# Shouldn't take longer than ~5 mins\n",
    "%pip install sentence-transformers\n",
    "%pip install tf-keras\n",
    "%pip instal numpy\n",
    "%pip install matplotlib"
   ]
  },
  {
   "cell_type": "markdown",
   "metadata": {},
   "source": [
    "\n",
    "<span style=\"color:#ff5555;font-weight:bold;font-size:1.5rem;\">\n",
    "    STOP\n",
    "</span>\n",
    "\n",
    "... or keep going if you want to work ahead.\n",
    "\n",
    "---\n",
    "\n",
    "Embeddings are an extremely useful tool in modern machine learning, allowing raw text to be transformed into numerical representations that models can understand.\n",
    "They are also a popular interview question to test a candidate’s understanding of vector spaces, similarity metrics, and real-world applications.\n",
    "Beyond that, embeddings are incredibly common in ML, powering everything from search engines and recommendation systems to chatbots and fraud detection.\n",
    "You'll see embeddings being used everywhere if you look! Here are just some models, projects, and papers that make use of embeddings:\n",
    "- [The original transformer paper - the basis of modern LLMs](https://arxiv.org/pdf/1706.03762)\n",
    "- [RAG systems - often used to give LLMs comprehensive access to much more information than they could normally use at once](https://en.wikipedia.org/wiki/Retrieval-augmented_generation)\n",
    "- [Image generations models such as Stable Diffusion](https://en.wikipedia.org/wiki/Stable_Diffusion)\n",
    "  - Note: images are generated *in embedding space*!\n",
    "- [Audio-continuation models such as RAVE](https://github.com/acids-ircam/RAVE)\n",
    "- Modern image search makes extensive use of embeddings\n",
    "- Modern recommendation algorithms also use embeddings\n",
    "- Even some papers published by MSOE students involve the use of embeddings! Here are a few:\n",
    "  - [Agent simulation with LLMs](https://arxiv.org/pdf/2409.13753)\n",
    "  - [Strategy masking - a technique to control model behavior](https://arxiv.org/pdf/2501.05501)\n",
    "\n",
    "**What *are* Embeddings?**\n",
    "\n",
    "At the lowest level, an embedding is just stored as a list of numbers. This could be an embedding: `[0.1, 0.2, -0.3]`.\n",
    "\n",
    "This list of numbers is best interpreted as a point or direction in some very high-dimensional space that represents something. In the case of text-based models, embeddings are used to represent words and sentences.\n",
    "\n",
    "In practice, embeddings range from tens of dimensions to over 1000. For simplicity, let's only conceptualize things in two or three dimensions for now - that way we can actually visualize what's going on.\n",
    "\n",
    "The image below shows how embedded words of the phrase `some embedded text` can be thought of as directions in space - the embedding point describes direction relative to the point (0,0).\n",
    "\n",
    "<img src=\"https://raw.githubusercontent.com/MSOE-AI-Club/workshops/refs/heads/main/Embeddings/img1.png\" width=1000px>\n",
    "\n",
    "But how do we actually interpret these directions in space as being words? The answer is that different directions in the space represent different aspects of a word -\n",
    "- one direction may encode \"past tense,\"\n",
    "- another may enode the idea of \"running\" or \"to run.\"\n",
    "\n",
    "In the case above, the embedding of the word \"ran\" may point in the average of the directions encoding \"past tense,\" and \"to run.\"\n",
    "\n",
    "<img src=\"https://raw.githubusercontent.com/MSOE-AI-Club/workshops/refs/heads/main/Embeddings/img2.png\" width=600px>\n",
    "\n",
    "This topic naturally leads into another important point: embeddings *closer* in embedding space are also *closer* in meaning. The word \"ran\" will be closer to \"walked\" than to \"stapler.\" This is the case, because words with increasingly different meanings are, *by definition,* pointing in increasingly different directions to encode those meanings.\n",
    "\n",
    "<img src=\"https://raw.githubusercontent.com/MSOE-AI-Club/workshops/refs/heads/main/Embeddings/img3.png\" width=600px>\n",
    "\n",
    "NOTE: we'll watch this during the workshop:\n",
    "\n",
    "[Here is a one-minute video that illustrates this concept using real-world embeddings.](https://www.youtube.com/watch?v=FJtFZwbvkI4)\n",
    "\n",
    "**How is it possible for there to be directions dedicated to ideas as specific as \"Italian-ness\" and \"WWII Axis leaders?\"**\n",
    "\n",
    "One might expect that the directions in embedding space would represent more general concepts.\n",
    "\n",
    "If directions can be allocated to specific ideas like \"WWII Axis leaders,\" how are there enough directions left to represent everything else, from \"60s British pop bands\" to \"computer keyboard layouts\"?!?!\n",
    "\n",
    "In two or three dimensions, it's *not* really possible to have directions this specific. But, remember that text embeddings are typically 10s to 1000s of dimensions.  \n",
    "\n",
    "As the number of dimensions grows, the number of possible points and directions in a space grows MUCH more quickly.\n",
    "\n",
    "Let's work with the constraint that points of different meanings must be one unit apart. This is somewhat arbitrary, but it is true that there is a \"minumum\" distance between two points before they mean the same thing. Let's also say that we only allow points in the range 0 to 1. This is also somewhat arbitrary, but machine learning models often try to keep numbers from getting too big to prevent numbers from going to infinity. With these constraints, we can only fit two points in one dimension:\n",
    "\n",
    "<img src=\"https://raw.githubusercontent.com/MSOE-AI-Club/workshops/refs/heads/main/Embeddings/img4.png\" width=600px>\n",
    "\n",
    "These two points (or two directions relative to a centerpoint) probably can't encode much information. But what if we extrude ourselves into the second dimension with the same constraints? \n",
    "\n",
    "<img src=\"https://raw.githubusercontent.com/MSOE-AI-Club/workshops/refs/heads/main/Embeddings/img5.png\" width=600px>\n",
    "\n",
    "We now have *four* points (or four directions). And if we went to three dimensions we'd have eight points - imagine extruding the four points of this square into a cube. In general, our constraints will allow N dimensions to encode $2^N$ unique directions.\n",
    "\n",
    "- With 10 dimensions, you have over 1000 directions.\n",
    "- 20 dimensions gets us over 1 million directions.\n",
    "- And at 1000 dimensions, we have **more possible unique directions than atoms in the observable universe,** each of which can be interpolated between to embed specific words or sentences!\n",
    "\n",
    "The act of adding just *one* dimension EXPONENTIALLY increases how many things we can fit in the space! So think about adding a dimension to a 3D space... *1000 times*.\n",
    "\n",
    "<img src=\"https://www.i2tutorials.com/wp-content/media/2019/09/Curse-of-Dimensionality-i2tutorials.png\" width=1000px>\n",
    "\n",
    "Although we can't *see* the directions encoding things like \"WWII Axis leaders,\" there is no doubt that these directions are able to exist.\n",
    "\n",
    "**Who decided that there should be directions for these particular ideas?**\n",
    "\n",
    "These directions are not something humans designed directly. Instead, these directions *emerge* from the process of training the model.\n",
    "\n",
    "The model learns from a huge amount of text and starts to recognize patterns, like which words tend to appear in similar contexts.\n",
    "\n",
    "As it processes more and more language, the model \"figures out\" what sort of information it should store in the directions of an embedding space - even though no one explicitly programmed it to do that!\n",
    "\n",
    "---\n",
    "\n",
    "<span style=\"color:#55ff55;font-weight:bold;font-size:1.5rem;\">\n",
    "    GO\n",
    "</span>\n",
    "\n",
    "**That seems neat. How can I use embeddings?**\n",
    "\n",
    "Let's set things up!\n",
    "\n",
    "It's really easy to get started with embeddings. You can even run small embedding models on your laptop!\n",
    "\n",
    "We'll be using `sentence-transformers` to run [all-MiniLM-L6-v2](https://huggingface.co/sentence-transformers/all-MiniLM-L6-v2) - a model that embeds sentences into 384 dimensions."
   ]
  },
  {
   "cell_type": "code",
   "execution_count": 2,
   "metadata": {},
   "outputs": [
    {
     "name": "stderr",
     "output_type": "stream",
     "text": [
      "c:\\Users\\lucasgr\\AppData\\Local\\Programs\\Python\\Python313\\Lib\\site-packages\\tqdm\\auto.py:21: TqdmWarning: IProgress not found. Please update jupyter and ipywidgets. See https://ipywidgets.readthedocs.io/en/stable/user_install.html\n",
      "  from .autonotebook import tqdm as notebook_tqdm\n"
     ]
    }
   ],
   "source": [
    "# IMPORTANT NOTE: make sure you ran the pip installs at the top of this notebook\n",
    "\n",
    "from sentence_transformers import SentenceTransformer\n",
    "import numpy as np"
   ]
  },
  {
   "cell_type": "code",
   "execution_count": null,
   "metadata": {},
   "outputs": [],
   "source": [
    "model = SentenceTransformer(\"all-MiniLM-L6-v2\") # Our model of choice is supplied here. You can find many more on huggingface: https://huggingface.co/models?sort=trending&search=embed\n",
    "embedding = model.encode(\"This is an embedded text example.\")\n",
    "\n",
    "print(embedding) # our embeddings are just lists of numbers stored as Numpy arrays. Numpy is just a library that makes it easier to manipulate arrays."
   ]
  },
  {
   "cell_type": "markdown",
   "metadata": {},
   "source": [
    "<span style=\"color:#ff5555;font-weight:bold;font-size:1.5rem;\">\n",
    "    STOP\n",
    "</span>\n",
    "\n",
    "... or keep going if you want to work ahead.\n",
    "\n",
    "---\n",
    "\n",
    "Now that we (hopefully) have a working embedding model, let's put it to use.\n",
    "\n",
    "But before that, we need to understand how to measure \"distance\" in embedding space.\n",
    "\n",
    "**Q: How would you normally measure distance between points in space?**\n",
    "\n",
    "**A: I would use the [Pythagorean theorem to find the Euclidean distance](https://en.wikipedia.org/wiki/Euclidean_distance).**\n",
    "\n",
    "That's right! Except we don't use Euclidean distance for embeddings.\n",
    "\n",
    "Well, you *could* use Euclidean distance for embeddings, but we use a different distance metric to take advantage of the fact that embeddings are directions.\n",
    "\n",
    "There is a metric you can compute between two vectors (two directions) called the [cosine similarity](https://en.wikipedia.org/wiki/Cosine_similarity) of the two vectors. This number is simply the cosine of the angle between the vectors.\n",
    "\n",
    "<img src=\"https://raw.githubusercontent.com/MSOE-AI-Club/workshops/refs/heads/main/Embeddings/img6.png\" width=1000px>\n",
    "\n",
    "If an angle $\\theta$ between two vectors is small and close to zero, then the cosine of that value will be close to $\\cos(0) = 1$. The maximum cosine similarity is $1$.\n",
    "\n",
    "As the angle increases, the cosine similarity decreases. When the angle passes ninety degrees, the cosine similarity goes negative. Two opposite vectors have a cosine similarity of $-1$. **Higher cosine similarity means two vectors are more similar.**\n",
    "\n",
    "The cosine similarity is so useful not only because it can tell us the similarity between vectors, but *also* because it's really easy to calculate. Simply multiply each number in a vector with each number in the same position in another, and then take the sum:\n",
    "$$\\text{CosineSim}([1,2], [3,4]) = 1\\times2\\ +\\ 2\\times4.$$\n",
    "\n",
    "This quantity is also called the [dot product](https://en.wikipedia.org/wiki/Dot_product), and we'll be computing it via `np.dot`.\n",
    "\n",
    "DISCLAIMER: technically, the dot product only equals the cosine similarity when the vectors are *normalized* (have a magnitude of 1), but embedding vectors are usually normalized.\n",
    "\n",
    "There is a separate metric from cosine similarity called cosine *distance.* It is computed via $1 - \\text{CosineSim}$. Unlike cosine similarity which tells you \"how similar\" two vectors are, cosine distance acts more like Euclidean distance in the sense that higher numbers mean \"more different\" rather than \"more similar.\" The cosine distance ranges from $0$ (for two equal vectors) to $2$ (for two opposite vectors).\n",
    "\n",
    "If you *did* use Euclidean distance on embeddings, your distances would be similar to those from using cosine distance. The reason that cosine distance is still preferred is computational - the Euclidean distance requires a square root to compute while cosine distance doesn't.\n",
    "\n",
    "---\n",
    "\n",
    "<span style=\"color:#55ff55;font-weight:bold;font-size:1.5rem;\">\n",
    "    GO\n",
    "</span>\n",
    "\n",
    "Let's first try the example from the previously linked 3Blue1Brown video."
   ]
  },
  {
   "cell_type": "code",
   "execution_count": null,
   "metadata": {},
   "outputs": [],
   "source": [
    "emb_uncle = model.encode(\"uncle\")\n",
    "emb_aunt = model.encode(\"aunt\")\n",
    "emb_man = model.encode(\"man\")\n",
    "emb_woman = model.encode(\"woman\")\n",
    "\n",
    "sim1 = np.dot(emb_uncle, emb_aunt) # We are using np.dot to evaluate the cosine similarity\n",
    "sim2 = np.dot(emb_uncle - emb_man + emb_woman, emb_aunt)\n",
    "\n",
    "print('CosSim:\\t\\t\\t', sim1)\n",
    "print('CosSim after transform:\\t', sim2) # Higher similarity! Remember that a larger number means more similar.\n"
   ]
  },
  {
   "cell_type": "markdown",
   "metadata": {},
   "source": [
    "**If you're done and still waiting for the workshop to continue:**\n",
    "\n",
    "Feel free to use different words or phrases in the example above. Does the \"Hitler - Germany + Italy = Mussolini\" example work? What about something like \"Milwaukee - Wisconsin + Illinois = Chicago\"?\n",
    "\n",
    "<span style=\"color:#ff5555;font-weight:bold;font-size:1.5rem;\">\n",
    "    STOP\n",
    "</span>\n",
    "\n",
    "... or keep going if you want to work ahead.\n",
    "\n",
    "---\n",
    "\n",
    "**How can we actually visualize these things if they're in more than 3 dimensions?**\n",
    "\n",
    "[Explain visualizing & when useful]"
   ]
  },
  {
   "cell_type": "code",
   "execution_count": 4,
   "metadata": {},
   "outputs": [],
   "source": [
    "from matplotlib import pyplot as plt"
   ]
  },
  {
   "cell_type": "code",
   "execution_count": 5,
   "metadata": {},
   "outputs": [],
   "source": [
    "emb_to_viz = model.encode(\"Milwaukee\")"
   ]
  },
  {
   "cell_type": "code",
   "execution_count": 8,
   "metadata": {},
   "outputs": [
    {
     "data": {
      "image/png": "[encoded data removed]",
      "text/plain": [
       "<Figure size 640x480 with 1 Axes>"
      ]
     },
     "metadata": {},
     "output_type": "display_data"
    },
    {
     "data": {
      "image/png": "[encoded data removed]",
      "text/plain": [
       "<Figure size 640x480 with 1 Axes>"
      ]
     },
     "metadata": {},
     "output_type": "display_data"
    },
    {
     "data": {
      "image/png": "[encoded data removed]",
      "text/plain": [
       "<Figure size 640x480 with 1 Axes>"
      ]
     },
     "metadata": {},
     "output_type": "display_data"
    }
   ],
   "source": [
    "NUM_BARS = 30 # set to some big number (like 1000) to see all dimensions\n",
    "plt.bar(range(emb_to_viz[:NUM_BARS].size), emb_to_viz[:NUM_BARS])\n",
    "plt.show()\n",
    "\n",
    "plt.plot(emb_to_viz[:NUM_BARS])\n",
    "plt.show()\n",
    "\n",
    "plt.imshow(emb_to_viz.reshape(16, 24))\n",
    "plt.show()"
   ]
  },
  {
   "cell_type": "markdown",
   "metadata": {},
   "source": [
    "Visualizing embeddings as images isn't an uncommon practice. In your own time, feel free to check out [this video about controlling LLM behavior](https://www.youtube.com/watch?v=UGO_Ehywuxc) that visualizes embeddings as images.\n",
    "\n",
    "<span style=\"color:#ff5555;font-weight:bold;font-size:1.5rem;\">\n",
    "    STOP\n",
    "</span>\n",
    "\n",
    "... or keep going if you want to work ahead.\n",
    "\n",
    "---\n",
    "\n",
    "**Let's put this embedding knowledge to use!**\n",
    "\n",
    "Since embeddings are a popular topic for interview questions, let's use embeddings to search a dataset of job listings."
   ]
  },
  {
   "cell_type": "code",
   "execution_count": 9,
   "metadata": {},
   "outputs": [],
   "source": [
    "import pandas as pd"
   ]
  },
  {
   "cell_type": "code",
   "execution_count": null,
   "metadata": {},
   "outputs": [],
   "source": [
    "jobs_df = pd.read_csv('https://raw.githubusercontent.com/MSOE-AI-Club/workshops/refs/heads/main/Embeddings/job_title_des.csv') # Did you know that you can read CSVs directly from a URL?"
   ]
  },
  {
   "cell_type": "code",
   "execution_count": null,
   "metadata": {},
   "outputs": [
    {
     "data": {
      "text/html": [
       "<div>\n",
       "<style scoped>\n",
       "    .dataframe tbody tr th:only-of-type {\n",
       "        vertical-align: middle;\n",
       "    }\n",
       "\n",
       "    .dataframe tbody tr th {\n",
       "        vertical-align: top;\n",
       "    }\n",
       "\n",
       "    .dataframe thead th {\n",
       "        text-align: right;\n",
       "    }\n",
       "</style>\n",
       "<table border=\"1\" class=\"dataframe\">\n",
       "  <thead>\n",
       "    <tr style=\"text-align: right;\">\n",
       "      <th></th>\n",
       "      <th>Unnamed: 0</th>\n",
       "      <th>Job Title</th>\n",
       "      <th>Job Description</th>\n",
       "    </tr>\n",
       "  </thead>\n",
       "  <tbody>\n",
       "    <tr>\n",
       "      <th>0</th>\n",
       "      <td>0</td>\n",
       "      <td>Flutter Developer</td>\n",
       "      <td>We are looking for hire experts flutter develo...</td>\n",
       "    </tr>\n",
       "    <tr>\n",
       "      <th>1</th>\n",
       "      <td>1</td>\n",
       "      <td>Django Developer</td>\n",
       "      <td>PYTHON/DJANGO (Developer/Lead) - Job Code(PDJ ...</td>\n",
       "    </tr>\n",
       "    <tr>\n",
       "      <th>2</th>\n",
       "      <td>2</td>\n",
       "      <td>Machine Learning</td>\n",
       "      <td>Data Scientist (Contractor)\\n\\nBangalore, IN\\n...</td>\n",
       "    </tr>\n",
       "    <tr>\n",
       "      <th>3</th>\n",
       "      <td>3</td>\n",
       "      <td>iOS Developer</td>\n",
       "      <td>JOB DESCRIPTION:\\n\\nStrong framework outside o...</td>\n",
       "    </tr>\n",
       "    <tr>\n",
       "      <th>4</th>\n",
       "      <td>4</td>\n",
       "      <td>Full Stack Developer</td>\n",
       "      <td>job responsibility full stack engineer – react...</td>\n",
       "    </tr>\n",
       "    <tr>\n",
       "      <th>...</th>\n",
       "      <td>...</td>\n",
       "      <td>...</td>\n",
       "      <td>...</td>\n",
       "    </tr>\n",
       "    <tr>\n",
       "      <th>2272</th>\n",
       "      <td>2399</td>\n",
       "      <td>Backend Developer</td>\n",
       "      <td>Job Summary\\nPublished on : 26 days ago\\nVacan...</td>\n",
       "    </tr>\n",
       "    <tr>\n",
       "      <th>2273</th>\n",
       "      <td>2400</td>\n",
       "      <td>Full Stack Developer</td>\n",
       "      <td>business entity cisco umbrella focus cloud-bas...</td>\n",
       "    </tr>\n",
       "    <tr>\n",
       "      <th>2274</th>\n",
       "      <td>2401</td>\n",
       "      <td>Network Administrator</td>\n",
       "      <td>Urgently reqd in a college in Mohali\\nNetwork ...</td>\n",
       "    </tr>\n",
       "    <tr>\n",
       "      <th>2275</th>\n",
       "      <td>2402</td>\n",
       "      <td>Machine Learning</td>\n",
       "      <td>Key Responsibilities: Team leads for small or ...</td>\n",
       "    </tr>\n",
       "    <tr>\n",
       "      <th>2276</th>\n",
       "      <td>2403</td>\n",
       "      <td>Full Stack Developer</td>\n",
       "      <td>leslie hindman auctioneer one nation 's leadin...</td>\n",
       "    </tr>\n",
       "  </tbody>\n",
       "</table>\n",
       "<p>2277 rows × 3 columns</p>\n",
       "</div>"
      ],
      "text/plain": [
       "      Unnamed: 0              Job Title  \\\n",
       "0              0      Flutter Developer   \n",
       "1              1       Django Developer   \n",
       "2              2       Machine Learning   \n",
       "3              3          iOS Developer   \n",
       "4              4   Full Stack Developer   \n",
       "...          ...                    ...   \n",
       "2272        2399      Backend Developer   \n",
       "2273        2400   Full Stack Developer   \n",
       "2274        2401  Network Administrator   \n",
       "2275        2402       Machine Learning   \n",
       "2276        2403   Full Stack Developer   \n",
       "\n",
       "                                        Job Description  \n",
       "0     We are looking for hire experts flutter develo...  \n",
       "1     PYTHON/DJANGO (Developer/Lead) - Job Code(PDJ ...  \n",
       "2     Data Scientist (Contractor)\\n\\nBangalore, IN\\n...  \n",
       "3     JOB DESCRIPTION:\\n\\nStrong framework outside o...  \n",
       "4     job responsibility full stack engineer – react...  \n",
       "...                                                 ...  \n",
       "2272  Job Summary\\nPublished on : 26 days ago\\nVacan...  \n",
       "2273  business entity cisco umbrella focus cloud-bas...  \n",
       "2274  Urgently reqd in a college in Mohali\\nNetwork ...  \n",
       "2275  Key Responsibilities: Team leads for small or ...  \n",
       "2276  leslie hindman auctioneer one nation 's leadin...  \n",
       "\n",
       "[2277 rows x 3 columns]"
      ]
     },
     "execution_count": 15,
     "metadata": {},
     "output_type": "execute_result"
    }
   ],
   "source": [
    "jobs_df"
   ]
  },
  {
   "cell_type": "markdown",
   "metadata": {},
   "source": [
    "We have"
   ]
  },
  {
   "cell_type": "code",
   "execution_count": 41,
   "metadata": {},
   "outputs": [],
   "source": [
    "job_titles = jobs_df['Job Title']\n",
    "job_descs = jobs_df['Job Description']\n",
    "job_embs = model.encode(job_descs.tolist()[:500]) # Embedding all jobs would take ~1 minute on a CPU. On Rosie this would be instant."
   ]
  },
  {
   "cell_type": "code",
   "execution_count": 42,
   "metadata": {},
   "outputs": [],
   "source": [
    "query = model.encode(\"I need some Python for AI\")"
   ]
  },
  {
   "cell_type": "code",
   "execution_count": 43,
   "metadata": {},
   "outputs": [
    {
     "data": {
      "text/plain": [
       "np.float32(0.08054371)"
      ]
     },
     "execution_count": 43,
     "metadata": {},
     "output_type": "execute_result"
    }
   ],
   "source": [
    "np.dot(query, job_embs[0]) # Cosine similarity between query and first job.\n",
    "job_embs[0].dot(query) # Alternate syntax - used below to broadcast our singular query across all jobs."
   ]
  },
  {
   "cell_type": "code",
   "execution_count": 66,
   "metadata": {},
   "outputs": [],
   "source": [
    "similarities = job_embs.dot(query) # Cosine similarities between query and ALL jobs.\n",
    "most_similar = np.argmax(similarities) # Index of the most similar job.\n",
    "\n",
    "N = 1\n",
    "nth_most_similar = np.argsort(similarities)[-N] # Index of the Nth most similar job."
   ]
  },
  {
   "cell_type": "code",
   "execution_count": 58,
   "metadata": {},
   "outputs": [
    {
     "name": "stdout",
     "output_type": "stream",
     "text": [
      "Most similar job title: Machine Learning\n",
      "\n",
      "Most similar job description:\n",
      "models at scale on Kubernetes or equivalent.\n",
      "• Experience in building distributed deep learning models leveraging GPUs.\n",
      "• Passion for solving challenging analytical problems. ...\n"
     ]
    }
   ],
   "source": [
    "print(\n",
    "    f\"Most similar job title: {job_titles[most_similar]}\"\n",
    "    f\"\\n\\nMost similar job description:\\n{job_descs[most_similar][1000:]} ...\"\n",
    ")"
   ]
  },
  {
   "cell_type": "code",
   "execution_count": 67,
   "metadata": {},
   "outputs": [
    {
     "name": "stdout",
     "output_type": "stream",
     "text": [
      "Nth most similar job title: Machine Learning\n",
      "\n",
      "Nth most similar job description:\n",
      "Exp: 2 to 6 years\n",
      "\n",
      "Seeking an AI/machine learning expert to help mature the capabilities of our AI solutions.\n",
      "\n",
      "The ideal candidate will be able to apply predictive models and must possess strong software skills, expert mathematical skills, strong analytical skills, and excellent communication skills.\n",
      "A certification in Machine Learning would be a plus.\n",
      "\n",
      "• Knowledge of Algorithm Development, Machine Learning, Computer Vision, Image Segmentation, Image Processing, 3D Modeling, Object Detection.\n",
      "• Deep understanding of statistics and experience with machine learning algorithms/techniques.\n",
      "Proven programming skills, in particular Python, strong experience with DL frameworks such as Tensorflow, Torch and others.\n",
      "• Scientific expertise and real-world experience in deep learning.\n",
      "• Experience in applying machine learning techniques to real-world problems in a production environment/ AWS/ Azure cloud\n",
      "• Experience on Anaconda Enterprise platform.\n",
      "• Experience is build & deploy machine-learning  ...\n"
     ]
    }
   ],
   "source": [
    "print(\n",
    "    f\"Nth most similar job title: {job_titles[nth_most_similar]}\"\n",
    "    f\"\\n\\nNth most similar job description:\\n{job_descs[nth_most_similar][:1000]} ...\"\n",
    ")"
   ]
  },
  {
   "cell_type": "markdown",
   "metadata": {},
   "source": [
    "\n",
    "TODO:\n",
    "\n",
    "maybe: high level of embeddings in transformer/attention?"
   ]
  }
 ],
 "metadata": {
  "kernelspec": {
   "display_name": "Python 3",
   "language": "python",
   "name": "python3"
  },
  "language_info": {
   "codemirror_mode": {
    "name": "ipython",
    "version": 3
   },
   "file_extension": ".py",
   "mimetype": "text/x-python",
   "name": "python",
   "nbconvert_exporter": "python",
   "pygments_lexer": "ipython3",
   "version": "3.13.0"
  }
 },
 "nbformat": 4,
 "nbformat_minor": 2
}
